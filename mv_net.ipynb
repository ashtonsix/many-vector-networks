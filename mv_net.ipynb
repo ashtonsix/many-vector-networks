{
 "cells": [
  {
   "cell_type": "code",
   "execution_count": 1,
   "metadata": {},
   "outputs": [],
   "source": [
    "%reload_ext autoreload\n",
    "%autoreload 2\n",
    "%matplotlib inline"
   ]
  },
  {
   "cell_type": "code",
   "execution_count": 2,
   "metadata": {},
   "outputs": [],
   "source": [
    "import sys\n",
    "sys.path.append('/home/salamander/fastai')\n",
    "\n",
    "from timeit import default_timer as timer\n",
    "from fastai.imports import *\n",
    "from fastai.torch_imports import *\n",
    "from fastai.learner import *\n",
    "from fastai.column_data import *"
   ]
  },
  {
   "cell_type": "code",
   "execution_count": 3,
   "metadata": {},
   "outputs": [],
   "source": [
    "class RLinear(nn.Module):\n",
    "    def __init__(self, input_dim, output_dim, dropout=0, norm=True):\n",
    "        super(RLinear, self).__init__()\n",
    "        self.fc = nn.Linear(input_dim, output_dim)\n",
    "        self.bn = nn.BatchNorm1d(output_dim)\n",
    "        self.dropout = dropout\n",
    "        self.norm = norm\n",
    "    def forward(self, x):\n",
    "        x = self.fc(x)\n",
    "        # if self.norm: x = self.bn(x)\n",
    "        x = F.relu(x)\n",
    "        # if self.dropout > 0: x = F.dropout(x, p=self.dropout, training=self.training)\n",
    "        return x"
   ]
  },
  {
   "cell_type": "code",
   "execution_count": 4,
   "metadata": {},
   "outputs": [],
   "source": [
    "class SLinear(nn.Module):\n",
    "    def __init__(self, input_dim, output_dim, dropout=0, norm=True):\n",
    "        super(SLinear, self).__init__()\n",
    "        self.fc = nn.Linear(input_dim, output_dim)\n",
    "        self.dropout = dropout\n",
    "        self.norm = norm\n",
    "        nn.init.normal(self.fc.weight, std=1/input_dim**.5)\n",
    "        nn.init.constant(self.fc.bias, 0.)\n",
    "    def forward(self, x):\n",
    "        x = self.fc(x)\n",
    "        if self.norm: x = F.selu(x)\n",
    "        x = F.alpha_dropout(x, p=self.dropout, training=self.training)\n",
    "        return x"
   ]
  },
  {
   "cell_type": "code",
   "execution_count": 5,
   "metadata": {},
   "outputs": [],
   "source": [
    "class AbstractNet(nn.Module):\n",
    "    def __init__(self, input_dim, output_dim, n_hidden_layers, hidden_dim, dropout=0.05):\n",
    "        super(AbstractNet, self).__init__()\n",
    "        self.input = self.Linear(input_dim, hidden_dim, dropout)\n",
    "        self.n_hidden_layers = n_hidden_layers\n",
    "        for i in range(self.n_hidden_layers): setattr(self, f'hidden_{i}', self.Linear(hidden_dim, hidden_dim, dropout))\n",
    "        self.output = self.Linear(hidden_dim, output_dim, norm=False)\n",
    "    def forward(self, x):\n",
    "        x = self.input(x)\n",
    "        for i in range(self.n_hidden_layers): x = getattr(self, f'hidden_{i}')(x)\n",
    "        x = self.output(x)\n",
    "        x = F.softmax(x)\n",
    "        return x\n",
    "\n",
    "class RNet(AbstractNet):\n",
    "    Linear = RLinear\n",
    "\n",
    "class SNet(AbstractNet):\n",
    "    Linear = SLinear"
   ]
  },
  {
   "cell_type": "code",
   "execution_count": 6,
   "metadata": {},
   "outputs": [],
   "source": [
    "class CatLearner(Learner):\n",
    "    def __init__(self, data, models, **kwargs):\n",
    "        super().__init__(data, models, **kwargs)\n",
    "\n",
    "    def _get_crit(self, data): return F.cross_entropy\n",
    "\n",
    "class CatModel(BasicModel):\n",
    "    def get_layer_groups(self): return self.model\n",
    "\n",
    "class CatDataset(Dataset):\n",
    "    def __init__(self, x, y):\n",
    "        self.x=x\n",
    "        self.y=y\n",
    "    def __len__(self):\n",
    "        return len(self.y)\n",
    "    def __getitem__(self, i):\n",
    "        return [self.x[i], self.y[i]]\n",
    "\n",
    "class CatModelData(ModelData):\n",
    "    def __init__(self, path, val_x, val_y, trn_x, trn_y, batch_size):\n",
    "        val_ds = CatDataset(val_x, val_y)\n",
    "        trn_ds = CatDataset(trn_x, trn_y)\n",
    "        val_dl = DataLoader(val_ds, batch_size, shuffle=True, num_workers=1)\n",
    "        trn_dl = DataLoader(trn_ds, batch_size, shuffle=True, num_workers=1)\n",
    "        super().__init__(path, val_dl, trn_dl)\n",
    "    @classmethod\n",
    "    def from_idxs(cls, path, val_idxs, x, y, batch_size):\n",
    "        (val_x, trn_x), (val_y, trn_y) = split_by_idx(val_idxs, x, y)\n",
    "        val_y = val_y[:, 0]\n",
    "        trn_y = trn_y[:, 0]\n",
    "        return cls(path, val_x, val_y, trn_x, trn_y, batch_size)"
   ]
  },
  {
   "cell_type": "code",
   "execution_count": 7,
   "metadata": {},
   "outputs": [],
   "source": [
    "def get_learner(dataset, batch_size, Model, *args, **kwargs):\n",
    "    x = pd.read_csv(f'data/{dataset}/{dataset}_py.dat', header=None)\n",
    "    y = pd.read_csv(f'data/{dataset}/labels_py.dat', header=None)\n",
    "    print(f\"{len(x)} rows, {len(x.columns)} cols, {y[0].nunique()} unique labels in '{dataset}'\\n\")\n",
    "    val_perc = 0.25\n",
    "    val_idx = y.sample(int(len(y)*val_perc)).index\n",
    "    data = CatModelData.from_idxs('results', val_idx, x.values, y.values, batch_size=batch_size)\n",
    "    model = Model(len(x.columns), y[0].nunique(), *args, **kwargs)\n",
    "    model = CatModel(to_gpu(model))\n",
    "    learner = CatLearner(data, model)\n",
    "    learner.half()\n",
    "    return learner"
   ]
  },
  {
   "cell_type": "code",
   "execution_count": 8,
   "metadata": {},
   "outputs": [
    {
     "name": "stdout",
     "output_type": "stream",
     "text": [
      "8124 rows, 21 cols, 2 unique labels in 'mushroom'\n",
      "\n"
     ]
    },
    {
     "data": {
      "application/vnd.jupyter.widget-view+json": {
       "model_id": "da400898e3bb42279be6b4e50dcbf79a",
       "version_major": 2,
       "version_minor": 0
      },
      "text/plain": [
       "HBox(children=(IntProgress(value=0, description='Epoch', max=15), HTML(value='')))"
      ]
     },
     "metadata": {},
     "output_type": "display_data"
    },
    {
     "name": "stdout",
     "output_type": "stream",
     "text": [
      "epoch      trn_loss   val_loss   accuracy   \n",
      "    0      0.690156   0.689314   0.522731  \n",
      "    1      0.69004    0.688759   0.524536  \n",
      "    2      0.68983    0.688489   0.526013  \n",
      "    3      0.689616   0.68743    0.526998  \n",
      "    4      0.689265   0.686469   0.529296  \n",
      "    5      0.688874   0.685913   0.531594  \n",
      "    6      0.688527   0.685777   0.53225   \n",
      "    7      0.688202   0.684206   0.542918  \n",
      "    8      0.687753   0.682663   0.559166  \n",
      "    9      0.687217   0.68128    0.582636  \n",
      "    10     0.686639   0.680149   0.605449  \n",
      "    11     0.686054   0.679328   0.623338  \n",
      "    12     0.685487   0.678832   0.637617  \n",
      "    13     0.684965   0.678611   0.644018  \n",
      "    14     0.684499   0.678564   0.645167  \n",
      "\n"
     ]
    },
    {
     "data": {
      "text/plain": [
       "[array([0.67856]), 0.6451665817585833]"
      ]
     },
     "execution_count": 8,
     "metadata": {},
     "output_type": "execute_result"
    }
   ],
   "source": [
    "l = get_learner('mushroom', 1024, RNet, 2, 128, 0.05)\n",
    "l.fit(0.01, 4, cycle_len=1, cycle_mult=2, metrics=[accuracy])"
   ]
  },
  {
   "cell_type": "code",
   "execution_count": 9,
   "metadata": {},
   "outputs": [
    {
     "name": "stdout",
     "output_type": "stream",
     "text": [
      "8124 rows, 21 cols, 2 unique labels in 'mushroom'\n",
      "\n"
     ]
    },
    {
     "data": {
      "application/vnd.jupyter.widget-view+json": {
       "model_id": "d4b37e1e93d8445a9301fbc84e44e6dc",
       "version_major": 2,
       "version_minor": 0
      },
      "text/plain": [
       "HBox(children=(IntProgress(value=0, description='Epoch', max=31), HTML(value='')))"
      ]
     },
     "metadata": {},
     "output_type": "display_data"
    },
    {
     "name": "stdout",
     "output_type": "stream",
     "text": [
      "epoch      trn_loss   val_loss   accuracy   \n",
      "    0      0.727138   0.793082   0.443952  \n",
      "    1      0.729695   0.73929    0.508781  \n",
      "    2      0.730081   0.715259   0.536846  \n",
      "    3      0.72887    0.635094   0.647628  \n",
      "    4      0.7266     0.580525   0.741671  \n",
      "    5      0.725041   0.558589   0.778434  \n",
      "    6      0.724348   0.554214   0.785492  \n",
      "    7      0.72448    0.522648   0.841622  \n",
      "    8      0.721522   0.50827    0.863122  \n",
      "    9      0.720603   0.500054   0.872477  \n",
      "    10     0.717798   0.492703   0.876416  \n",
      "    11     0.71547    0.486355   0.877564  \n",
      "    12     0.713497   0.481114   0.879862  \n",
      "    13     0.712241   0.478413   0.879862  \n",
      "    14     0.711276   0.477807   0.879698  \n",
      "    15     0.709585   0.454534   0.879698  \n",
      "    16     0.707915   0.440133   0.883145  \n",
      "    17     0.70421    0.432539   0.881832  \n",
      "    18     0.699485   0.428929   0.884786  \n",
      "    19     0.693287   0.427898   0.884293  \n",
      "    20     0.685352   0.42583    0.887084  \n",
      "    21     0.676068   0.423236   0.890202  \n",
      "    22     0.665884   0.419974   0.893156  \n",
      "    23     0.655432   0.416212   0.896931  \n",
      "    24     0.645162   0.413903   0.899393  \n",
      "    25     0.634622   0.412738   0.900542  \n",
      "    26     0.625341   0.411494   0.901855  \n",
      "    27     0.616005   0.410718   0.902511  \n",
      "    28     0.608178   0.410105   0.903168  \n",
      "    29     0.599918   0.409796   0.903496  \n",
      "    30     0.592538   0.409741   0.903496  \n",
      "\n"
     ]
    },
    {
     "data": {
      "text/plain": [
       "[array([0.40974]), 0.903495815045607]"
      ]
     },
     "execution_count": 9,
     "metadata": {},
     "output_type": "execute_result"
    }
   ],
   "source": [
    "l = get_learner('mushroom', 1024, SNet, 32, 128, 0.05)\n",
    "l.fit(0.01, 5, cycle_len=1, cycle_mult=2, metrics=[accuracy])"
   ]
  },
  {
   "cell_type": "code",
   "execution_count": 10,
   "metadata": {},
   "outputs": [],
   "source": [
    "class BatchLinear(nn.Module):\n",
    "    def __init__(self, n_towers, in_features, out_features):\n",
    "        super(BatchLinear, self).__init__()\n",
    "        self.n_towers = n_towers\n",
    "        self.in_features = in_features\n",
    "        self.out_features = out_features\n",
    "        self.weight = nn.Parameter(torch.Tensor(n_towers, in_features, out_features))\n",
    "        self.bias = nn.Parameter(torch.Tensor(n_towers, out_features))\n",
    "        self.reset_parameters()\n",
    "\n",
    "    def reset_parameters(self):\n",
    "        stdv = 1. / math.sqrt(self.weight.size(1))\n",
    "        self.weight.data.uniform_(-stdv, stdv)\n",
    "        self.bias.data.uniform_(-stdv, stdv)\n",
    "\n",
    "    def forward(self, input):\n",
    "        output = input.unsqueeze(2)\n",
    "        output = torch.matmul(output, self.weight)\n",
    "        output = output.squeeze(2)\n",
    "        output += self.bias\n",
    "        return output\n",
    "\n",
    "    def extra_repr(self):\n",
    "        return 'n_towers={} in_features={}, out_features={}'.format(\n",
    "            self.n_towers, self.in_features, self.out_features\n",
    "        )"
   ]
  },
  {
   "cell_type": "code",
   "execution_count": 11,
   "metadata": {},
   "outputs": [],
   "source": [
    "class MLinear(nn.Module):\n",
    "    def __init__(self, n_towers, tower_sz, dropout=0):\n",
    "        super(MLinear, self).__init__()\n",
    "        self.fc = BatchLinear(n_towers, tower_sz, tower_sz)\n",
    "        self.dropout = dropout\n",
    "        nn.init.normal(self.fc.weight, std=1/tower_sz**.5)\n",
    "        nn.init.constant(self.fc.bias, 0.)\n",
    "    def forward(self, x):\n",
    "        x = self.fc(x)\n",
    "        x = F.selu(x)\n",
    "        x = F.alpha_dropout(x, p=self.dropout, training=self.training)\n",
    "        return x"
   ]
  },
  {
   "cell_type": "code",
   "execution_count": 12,
   "metadata": {},
   "outputs": [
    {
     "name": "stdout",
     "output_type": "stream",
     "text": [
      "0.0009307328738525794 0.998965505823315\n"
     ]
    }
   ],
   "source": [
    "mean = 0\n",
    "variance = 1\n",
    "samples = 1000000\n",
    "\n",
    "# vectors\n",
    "a = np.random.normal(mean, variance, samples)\n",
    "b = np.random.normal(mean, variance, samples)\n",
    "c = np.random.normal(mean, variance, samples)\n",
    "\n",
    "d = np.random.normal(mean, variance, samples)\n",
    "e = np.random.normal(mean, variance, samples)\n",
    "f = np.random.normal(mean, variance, samples)\n",
    "\n",
    "# weights\n",
    "weight_a = 2\n",
    "weight_b = -1.2\n",
    "weight_c = 0.1\n",
    "\n",
    "noise = (d * weight_a) + (e * weight_b) + (f * weight_c)\n",
    "result = (a * weight_a) + (b * weight_b) + (c * weight_c)\n",
    "result *= np.flip(result, 0) / (weight_a**2 + weight_b**2 + weight_c**2)\n",
    "print(np.mean(result), np.var(result))"
   ]
  },
  {
   "cell_type": "code",
   "execution_count": 13,
   "metadata": {},
   "outputs": [],
   "source": [
    "class MCombineAverage(nn.Module):\n",
    "    def __init__(self, out_dim, n_towers, tower_sz, serial_factor=1):\n",
    "        super(MCombine, self).__init__()\n",
    "        self.out_dim = out_dim\n",
    "        self.n_towers = n_towers\n",
    "        self.tower_sz = tower_sz\n",
    "        assert (out_dim / tower_sz).is_integer(), f'out_dim ({out_dim}) must be divisible by tower_sz ({tower_sz})'\n",
    "        self.n_repeat = int(out_dim / tower_sz)\n",
    "        self.batch_sz = int(max(self.n_repeat / serial_factor, n_towers / tower_sz))\n",
    "        self.weights = nn.Parameter(torch.Tensor(self.n_repeat, self.n_towers, 1))\n",
    "        nn.init.normal(self.weights, std=1.)\n",
    "    def flip(tensor):\n",
    "        inv_idx = Variable(torch.arange(tensor.size(0)-1, -1, -1).long().cuda())\n",
    "        inv_tensor = tensor.index_select(0, inv_idx)\n",
    "        inv_tensor = tensor[inv_idx]\n",
    "        return inv_tensor\n",
    "    def forward(self, x):\n",
    "        x = x.unsqueeze(1)\n",
    "        tmp = []\n",
    "        for start in range(0, self.n_repeat, self.batch_sz):\n",
    "            end = min(start + self.batch_sz, self.n_repeat)\n",
    "            sz = end - start\n",
    "            xi = x.repeat(1, sz, 1, 1)\n",
    "            xi = xi.mul(self.weights[start:end])\n",
    "            xim = xi.mean(2)\n",
    "            tmp.append(xim)\n",
    "            del xi # free memory\n",
    "        x = torch.stack(tmp, 1)\n",
    "        x_flipped = self.flip(x) # flip batch to get \"random\" distribution samples\n",
    "        x = x * (x_flipped / (self.weights**2).sum()) # normalize variance\n",
    "        x = x.view(-1, self.out_dim)\n",
    "        return x"
   ]
  },
  {
   "cell_type": "code",
   "execution_count": 14,
   "metadata": {},
   "outputs": [],
   "source": [
    "class MCombineLinear(nn.Module):\n",
    "    def __init__(self, out_dim, n_towers, tower_sz, dropout=0):\n",
    "        super(MCombineLinear, self).__init__()\n",
    "        assert (out_dim / tower_sz).is_integer(), f'out_dim ({out_dim}) must be divisible by tower_sz ({tower_sz})'\n",
    "        self.out_dim = out_dim\n",
    "        self.n_towers = n_towers\n",
    "        self.tower_sz = tower_sz\n",
    "        self.fc = BatchLinear(tower_sz, n_towers, int(out_dim / tower_sz))\n",
    "        self.dropout = dropout\n",
    "        nn.init.normal(self.fc.weight, std=1/tower_sz**.5)\n",
    "        nn.init.constant(self.fc.bias, 0.)\n",
    "    def forward(self, x):\n",
    "        x = x.view(-1, self.tower_sz, self.n_towers)\n",
    "        x = self.fc(x)\n",
    "        x = x.view(-1, self.out_dim)\n",
    "        x = F.selu(x)\n",
    "        x = F.alpha_dropout(x, p=self.dropout, training=self.training)\n",
    "        return x"
   ]
  },
  {
   "cell_type": "code",
   "execution_count": 15,
   "metadata": {},
   "outputs": [],
   "source": [
    "class MReshape(nn.Module):\n",
    "    def __init__(self, in_dim, n_towers, tower_sz):\n",
    "        super(MReshape, self).__init__()\n",
    "        self.in_dim = in_dim\n",
    "        self.n_towers = n_towers\n",
    "        self.tower_sz = tower_sz\n",
    "        self.n_repeat = int((n_towers * tower_sz) / in_dim)\n",
    "        assert ((n_towers * tower_sz) / in_dim).is_integer(), \\\n",
    "            f'(n_towers [{n_towers}] * tower_sz [{tower_sz}]) [{n_towers * tower_sz}] must be divisible by in_dim ({in_dim})'\n",
    "    def forward(self, x):\n",
    "        x = x.view(x.shape[0], -1, self.tower_sz)\n",
    "        x = x.repeat(1, self.n_repeat, 1)\n",
    "        return x"
   ]
  },
  {
   "cell_type": "code",
   "execution_count": 16,
   "metadata": {},
   "outputs": [],
   "source": [
    "class AbstractMBlock(nn.Module):\n",
    "    def __init__(self, in_dim, out_dim, n_towers, tower_sz, n_layers, dropout=0):\n",
    "        super(AbstractMBlock, self).__init__()\n",
    "        self.in_dim = in_dim\n",
    "        self.out_dim = out_dim\n",
    "        self.n_towers = n_towers\n",
    "        self.tower_sz = tower_sz\n",
    "        self.n_layers = n_layers\n",
    "        self.input = MReshape(in_dim, n_towers, tower_sz)\n",
    "        for i in range(self.n_layers): setattr(self, f'layer_{i}', MLinear(n_towers, tower_sz, dropout))\n",
    "        self.combine = self.Combine(out_dim, n_towers, tower_sz, dropout=dropout)\n",
    "        self.output = SLinear(out_dim, out_dim)\n",
    "    def forward(self, x):\n",
    "        x = self.input(x)\n",
    "        for i in range(self.n_layers): x = getattr(self, f'layer_{i}')(x)\n",
    "        x = self.combine(x)\n",
    "        x = self.output(x)\n",
    "        return x\n",
    "\n",
    "class MBlockAverage(AbstractMBlock):\n",
    "    Combine = MCombineAverage\n",
    "\n",
    "class MBlockLinear(AbstractMBlock):\n",
    "    Combine = MCombineLinear"
   ]
  },
  {
   "cell_type": "code",
   "execution_count": 17,
   "metadata": {},
   "outputs": [],
   "source": [
    "class MNet(nn.Module):\n",
    "    # blocks = [(in_dim, n_towers, tower_sz, n_layers), ...]\n",
    "    def __init__(self, in_dim, out_dim, blocks, dropout=0.05):\n",
    "        super(MNet, self).__init__()\n",
    "        self.n_blocks = len(blocks)\n",
    "        self.input = SLinear(in_dim, blocks[0][0], dropout)\n",
    "        for i, block in enumerate(blocks):\n",
    "            nxt_dim = blocks[i + 1][0] if i < len(blocks) - 1 else block[0]\n",
    "            in_dim, n_towers, tower_sz, n_layers = block\n",
    "            setattr(self, f'block_{i}', MBlockLinear(in_dim, nxt_dim, n_towers, tower_sz, n_layers, dropout))\n",
    "        self.output = SLinear(blocks[len(blocks) - 1][0], out_dim, norm=False)\n",
    "    def forward(self, x):\n",
    "        x = self.input(x)\n",
    "        for i in range(self.n_blocks): x = getattr(self, f'block_{i}')(x)\n",
    "        x = self.output(x)\n",
    "        return x"
   ]
  },
  {
   "cell_type": "code",
   "execution_count": 18,
   "metadata": {},
   "outputs": [
    {
     "name": "stdout",
     "output_type": "stream",
     "text": [
      "8124 rows, 21 cols, 2 unique labels in 'mushroom'\n",
      "\n"
     ]
    },
    {
     "data": {
      "application/vnd.jupyter.widget-view+json": {
       "model_id": "d5305f4c679e4036854084f219c8442e",
       "version_major": 2,
       "version_minor": 0
      },
      "text/plain": [
       "HBox(children=(IntProgress(value=0, description='Epoch', max=15), HTML(value='')))"
      ]
     },
     "metadata": {},
     "output_type": "display_data"
    },
    {
     "name": "stdout",
     "output_type": "stream",
     "text": [
      "epoch      trn_loss   val_loss   accuracy   \n",
      "    0      1.023263   0.527501   0.756606  \n",
      "    1      0.634809   0.160713   0.936156  \n",
      "    2      0.449255   0.132253   0.94666   \n",
      "    3      0.342099   0.062527   0.973904  \n",
      "    4      0.26981    0.039395   0.985229  \n",
      "    5      0.218879   0.031462   0.989004  \n",
      "    6      0.182067   0.030238   0.989496  \n",
      "    7      0.154149   0.020696   0.993107  \n",
      "    8      0.131839   0.015189   0.995569  \n",
      "    9      0.113824   0.012262   0.996389  \n",
      "    10     0.099123   0.010767   0.996882  \n",
      "    11     0.086961   0.010072   0.997046  \n",
      "    12     0.076775   0.009779   0.997046  \n",
      "    13     0.068157   0.009689   0.997046  \n",
      "    14     0.060795   0.009676   0.997046  \n",
      "\n"
     ]
    },
    {
     "data": {
      "text/plain": [
       "[array([0.00968]), 0.9970457902511078]"
      ]
     },
     "execution_count": 18,
     "metadata": {},
     "output_type": "execute_result"
    }
   ],
   "source": [
    "dataset = 'mushroom'\n",
    "l = get_learner(dataset, 512, MNet, [(256, 256, 16, 6), (128, 128, 16, 6), (64, 64, 16, 6)], 0.)\n",
    "l.fit(0.01, 4, cycle_len=1, cycle_mult=2, metrics=[accuracy])"
   ]
  },
  {
   "cell_type": "code",
   "execution_count": 19,
   "metadata": {},
   "outputs": [],
   "source": [
    "from sklearn.metrics import roc_auc_score\n",
    "from sklearn.preprocessing import StandardScaler"
   ]
  },
  {
   "cell_type": "code",
   "execution_count": 50,
   "metadata": {},
   "outputs": [],
   "source": [
    "def get_tox21_learner(batch_size, Model, opt_fn, *args, **kwargs):\n",
    "    y_trn = pd.read_csv('tox21/tox21_labels_train.csv.gz', index_col=0, compression=\"gzip\")\n",
    "    y_val = pd.read_csv('tox21/tox21_labels_test.csv.gz', index_col=0, compression=\"gzip\")\n",
    "    y_trn.columns = range(y_val.shape[1])\n",
    "    y_trn = (y_trn == 1).idxmax(1).values\n",
    "    y_val.columns = range(y_val.shape[1])\n",
    "    y_val = (y_val == 1).idxmax(1).values\n",
    "\n",
    "    x_trn = pd.read_csv('tox21/tox21_dense_train.csv.gz', index_col=0, compression=\"gzip\").values\n",
    "    x_val = pd.read_csv('tox21/tox21_dense_test.csv.gz', index_col=0, compression=\"gzip\").values\n",
    "    scaler = StandardScaler().fit(np.concatenate((x_trn, x_val), axis=0))\n",
    "    x_trn = scaler.transform(x_trn).astype(np.float64)\n",
    "    x_val = scaler.transform(x_val).astype(np.float64)\n",
    "\n",
    "    print(f\"{x_trn.shape[0]} rows, {x_trn.shape[1]} cols, {len(np.unique(y_trn))} unique labels in 'tox21'\\n\")\n",
    "    \n",
    "    data = CatModelData('results', x_val, y_val, x_trn, y_trn, batch_size=batch_size)\n",
    "    model = Model(x_trn.shape[1], len(np.unique(y_trn)), *args, **kwargs)\n",
    "    model = CatModel(to_gpu(model))\n",
    "    learner = CatLearner(data, model, opt_fn=opt_fn) #.half()\n",
    "    return learner"
   ]
  },
  {
   "cell_type": "code",
   "execution_count": 51,
   "metadata": {},
   "outputs": [],
   "source": [
    "def auc(preds, target):\n",
    "    preds = preds.cpu().numpy()\n",
    "    target = one_hot(target.cpu().numpy(), preds.shape[1])\n",
    "    total = 0\n",
    "    labels = 0\n",
    "    for i in range(preds.shape[1]):\n",
    "        if target[:,i].sum() == 0: continue\n",
    "        labels += 1\n",
    "        total += roc_auc_score(target[:,i], preds[:,i])\n",
    "    return total / labels"
   ]
  },
  {
   "cell_type": "code",
   "execution_count": 52,
   "metadata": {},
   "outputs": [
    {
     "name": "stdout",
     "output_type": "stream",
     "text": [
      "12060 rows, 801 cols, 12 unique labels in 'tox21'\n",
      "\n"
     ]
    },
    {
     "data": {
      "application/vnd.jupyter.widget-view+json": {
       "model_id": "780c4860b2974d849d221a7fa8fc94a0",
       "version_major": 2,
       "version_minor": 0
      },
      "text/plain": [
       "HBox(children=(IntProgress(value=0, description='Epoch', max=2), HTML(value='')))"
      ]
     },
     "metadata": {},
     "output_type": "display_data"
    },
    {
     "name": "stdout",
     "output_type": "stream",
     "text": [
      "epoch      trn_loss   val_loss   \n",
      "    0      4.665791   4.444328  \n",
      "    1      4.406434   3.990287  \n"
     ]
    },
    {
     "data": {
      "application/vnd.jupyter.widget-view+json": {
       "model_id": "c53833a1bb5346fa95875988ce3616d3",
       "version_major": 2,
       "version_minor": 0
      },
      "text/plain": [
       "HBox(children=(IntProgress(value=0, description='Epoch', max=51), HTML(value='')))"
      ]
     },
     "metadata": {},
     "output_type": "display_data"
    },
    {
     "name": "stdout",
     "output_type": "stream",
     "text": []
    },
    {
     "data": {
      "image/png": "[encoded data removed]",
      "text/plain": [
       "<Figure size 432x576 with 2 Axes>"
      ]
     },
     "metadata": {},
     "output_type": "display_data"
    }
   ],
   "source": [
    "l = get_tox21_learner(512, MNet, optim.SGD, [(256, 256, 16, 8)], 0.05)\n",
    "l.fit(0.001, 2)\n",
    "l.lr_find2()\n",
    "l.sched.plot()"
   ]
  },
  {
   "cell_type": "code",
   "execution_count": 53,
   "metadata": {},
   "outputs": [
    {
     "data": {
      "application/vnd.jupyter.widget-view+json": {
       "model_id": "11e251f55a9d469491fafa60143b5adf",
       "version_major": 2,
       "version_minor": 0
      },
      "text/plain": [
       "HBox(children=(IntProgress(value=0, description='Epoch', max=31), HTML(value='')))"
      ]
     },
     "metadata": {},
     "output_type": "display_data"
    },
    {
     "name": "stdout",
     "output_type": "stream",
     "text": [
      "epoch      trn_loss   val_loss   accuracy   auc        \n",
      "    0      4.05197    2.96072    0.210282   0.518532  \n",
      "    1      3.521202   1.915465   0.605556   0.528368  \n",
      "    2      2.998842   1.888555   0.63524    0.531405  \n",
      "    3      2.731636   1.919747   0.662521   0.540717  \n",
      "    4      2.538261   1.868643   0.684577   0.543776  \n",
      "    5      2.419086   1.839129   0.684328   0.539926  \n",
      "    6      2.327061   1.835271   0.684909   0.540142  \n",
      "    7      2.248345   1.782355   0.687977   0.544289  \n",
      "    8      2.216184   1.752898   0.697927   0.550237  \n",
      "    9      2.146815   1.741966   0.700166   0.548003  \n",
      "    10     2.074602   1.738955   0.697098   0.555234  \n",
      "    11     2.029332   1.731724   0.700415   0.550325  \n",
      "    12     1.996413   1.721574   0.70199    0.550095  \n",
      "    13     1.961823   1.71998    0.701575   0.550342  \n",
      "    14     1.939849   1.718933   0.701658   0.546995  \n",
      "    15     1.923276   1.665127   0.697512   0.55235   \n",
      "    16     1.915851   1.622955   0.703731   0.54584   \n",
      "    17     1.903219   1.61982    0.71194    0.552477  \n",
      "    18     1.889113   1.613562   0.701244   0.549283  \n",
      "    19     1.856275   1.627438   0.701493   0.549908  \n",
      "    20     1.832809   1.607696   0.709287   0.554888  \n",
      "    21     1.815919   1.626191   0.696683   0.559174  \n",
      "    22     1.794412   1.633867   0.695357   0.558707  \n",
      "    23     1.7731     1.63511    0.699254   0.556191  \n",
      "    24     1.755545   1.63159    0.697595   0.558073  \n",
      "    25     1.735586   1.628055   0.701658   0.561022  \n",
      "    26     1.722479   1.623393   0.704063   0.55648   \n",
      "    27     1.707853   1.618734   0.704312   0.564761  \n",
      "    28     1.695431   1.617671   0.704395   0.557696  \n",
      "    29     1.680883   1.617412   0.704395   0.55514   \n",
      "    30     1.670124   1.617412   0.704395   0.564119  \n"
     ]
    },
    {
     "data": {
      "text/plain": [
       "[array([1.61741]), 0.7043946935762814, 0.564118907891815]"
      ]
     },
     "execution_count": 53,
     "metadata": {},
     "output_type": "execute_result"
    }
   ],
   "source": [
    "l.fit(0.01, 5, cycle_len=1, cycle_mult=2, metrics=[accuracy, auc])"
   ]
  },
  {
   "cell_type": "code",
   "execution_count": 25,
   "metadata": {},
   "outputs": [
    {
     "name": "stdout",
     "output_type": "stream",
     "text": [
      "12060 rows, 801 cols, 12 unique labels in 'tox21'\n",
      "\n"
     ]
    },
    {
     "data": {
      "application/vnd.jupyter.widget-view+json": {
       "model_id": "7edebf0ffdeb4481a9c572ff3b00db69",
       "version_major": 2,
       "version_minor": 0
      },
      "text/plain": [
       "HBox(children=(IntProgress(value=0, description='Epoch', max=31), HTML(value='')))"
      ]
     },
     "metadata": {},
     "output_type": "display_data"
    },
    {
     "name": "stdout",
     "output_type": "stream",
     "text": [
      "epoch      trn_loss   val_loss   accuracy   auc        \n",
      "    0      2.476115   2.469275   0.126866   0.488388  \n",
      "    1      2.482309   2.469275   0.126866   0.483153  \n",
      "    2      2.483103   2.429069   0.239801   0.490803  \n",
      "    3      2.481933   2.429069   0.239801   0.496009  \n",
      "    4      2.480413   2.344691   0.345771   0.516813  \n",
      "    5      2.47457    2.344691   0.345771   0.516187  \n",
      "    6      2.470638   2.250088   0.402736   0.560644  \n",
      "    7      2.460819   2.250088   0.402736   0.557353  \n",
      "    8      2.453887   2.194894   0.432587   0.580643  \n",
      "    9      2.438378   2.194894   0.432587   0.574305  \n",
      "    10     2.426282   2.166374   0.449005   0.580221  \n",
      "    11     2.408      2.166374   0.449005   0.581582  \n",
      "    12     2.392186   2.150902   0.456882   0.588451  \n",
      "    13     2.374871   2.150902   0.456882   0.589361  \n",
      "    14     2.359562   2.141676   0.462852   0.587921  \n",
      "    15     2.343904   2.141676   0.462852   0.588416  \n",
      "    16     2.329873   2.13513    0.467579   0.58948   \n",
      "    17     2.31679    2.13513    0.467579   0.591689  \n",
      "    18     2.305419   2.130077   0.472305   0.593341  \n",
      "    19     2.294121   2.130077   0.472305   0.594484  \n",
      "    20     2.283979   2.125733   0.476119   0.594051  \n",
      "    21     2.274363   2.125733   0.476119   0.592601  \n",
      "    22     2.265702   2.121987   0.477778   0.592574  \n",
      "    23     2.25715    2.121987   0.477778   0.596236  \n",
      "    24     2.24967    2.11854    0.482172   0.593493  \n",
      "    25     2.242581   2.11854    0.482172   0.595561  \n",
      "    26     2.235965   2.115431   0.485158   0.597084  \n",
      "    27     2.229697   2.115431   0.485158   0.596207  \n",
      "    28     2.223967   2.112908   0.487065   0.600036  \n",
      "    29     2.21839    2.112908   0.487065   0.594689  \n",
      "    30     2.213041   2.110702   0.489303   0.597977  \n",
      "\n"
     ]
    },
    {
     "data": {
      "text/plain": [
       "[array([2.1107]), 0.4893034829429133, 0.5979774795063751]"
      ]
     },
     "execution_count": 25,
     "metadata": {},
     "output_type": "execute_result"
    }
   ],
   "source": [
    "sl = get_tox21_learner(1024, SNet, 8, 768, 0.05)\n",
    "sl.fit(0.01, 7, cycle_len=1, cycle_mult=2, metrics=[accuracy, auc])"
   ]
  },
  {
   "cell_type": "code",
   "execution_count": null,
   "metadata": {},
   "outputs": [],
   "source": []
  }
 ],
 "metadata": {
  "kernelspec": {
   "display_name": "Environment (conda_fastai)",
   "language": "python",
   "name": "conda_fastai"
  },
  "language_info": {
   "codemirror_mode": {
    "name": "ipython",
    "version": 3
   },
   "file_extension": ".py",
   "mimetype": "text/x-python",
   "name": "python",
   "nbconvert_exporter": "python",
   "pygments_lexer": "ipython3",
   "version": "3.6.5"
  }
 },
 "nbformat": 4,
 "nbformat_minor": 2
}
